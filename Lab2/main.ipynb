{
 "cells": [
  {
   "cell_type": "markdown",
   "metadata": {},
   "source": [
    "Zadaniem na zajęcia 2 jest implementacja działającego na zbiorze heart disease \n",
    "modelu klasyfikacji, przy czym: <br>\n",
    " \n",
    "• Zbieżność modelu można zdefiniować przez wystarczająco małą zmianę \n",
    "funkcji kosztu w danej iteracji i pewną maksymalną liczbę iteracji <br>\n",
    "• Model  może  uczyć  się  wyliczając  sumaryczną  pochodną  z  funkcji  kosztu  po \n",
    "całym zbiorze, po jednym przykładzie lub po paczce przykładów w iteracji. Dla \n",
    "sieci  neuronowej  w  następnym  zadaniu  będzie  już  wymagany  tryb \n",
    "paczkowania,  więc  warto  przećwiczyć  operacje  na  całych  macierzach  a  nie \n",
    "tylko pojedynczych wektorach danych <br>\n",
    "• Uczenie się modelu powinno być weryfikowalne metryką (np. accuracy, fscore, \n",
    "precision – można korzystać z bibliotek) <br>\n",
    "• Weryfikacja powinna uwzględnić podział na dane uczące i testowe"
   ]
  },
  {
   "cell_type": "code",
   "execution_count": 44,
   "metadata": {},
   "outputs": [],
   "source": [
    "from ucimlrepo import fetch_ucirepo\n",
    "import matplotlib.pyplot as plt\n",
    "import seaborn as sns\n",
    "import pandas as pd\n",
    "import missingno as msno\n",
    "import numpy as np\n",
    "from sklearn.model_selection import train_test_split\n",
    "from sklearn.preprocessing import StandardScaler\n",
    "from sklearn.linear_model import LogisticRegression\n",
    "from sklearn.metrics import accuracy_score, precision_score, f1_score\n",
    "\n",
    "heart_disease = fetch_ucirepo(id=45)\n",
    "\n",
    "# Porzucenie linii z pustymi etykietami oraz odpowiadajacych im wartosci\n",
    "x = heart_disease.data.features.dropna()\n",
    "y = heart_disease.data.targets.loc[x.index]\n",
    "\n",
    "# Utworzenie zbioru wartości binarnych i wartości w formie dummy\n",
    "y_binary = y.copy()\n",
    "y_binary['num'] = y_binary['num'].apply(lambda x: 1 if x != 0 else 0)\n",
    "y_dummy = pd.get_dummies(y, columns=['num'])\n",
    "\n",
    "# Utworznnie zbioru dummy etykiet\n",
    "x_dummy = pd.get_dummies(x, columns=['cp', 'restecg', 'slope','ca','thal'])\n",
    "x_dummy_binary = pd.get_dummies(x_dummy, columns=['sex', 'fbs', 'exang'])\n",
    "\n",
    "def function_sigma(n):\n",
    "    return 1 / (1 + np.exp(-n))\n",
    "\n",
    "def function_p(x, W=None, b=None):\n",
    "    return function_sigma(W*x + b)\n",
    "\n",
    "def function_L(x,y):\n",
    "    -y*np.log(function_p(x)) - (1 - y)*np.log(1 - function_p(x))"
   ]
  },
  {
   "cell_type": "code",
   "execution_count": 45,
   "metadata": {},
   "outputs": [
    {
     "name": "stdout",
     "output_type": "stream",
     "text": [
      "Accuracy: 0.6889\n",
      "Precision: 0.6725\n",
      "F1 Score: 0.6773\n"
     ]
    }
   ],
   "source": [
    "# Podział danych na zbiór uczący i testowy\n",
    "x_train, x_test, y_train, y_test = train_test_split(x, y, test_size=0.3, random_state=268555)\n",
    "\n",
    "# Normalizacja cech\n",
    "scaler = StandardScaler()\n",
    "x_train = scaler.fit_transform(x_train)\n",
    "x_test = scaler.transform(x_test)\n",
    "\n",
    "# Model regresji logistycznej\n",
    "model = LogisticRegression(max_iter=1000)\n",
    "\n",
    "# Trenowanie modelu na danych uczących\n",
    "model.fit(x_train, np.ravel(y_train))   # funkcja ravel zmiania macierz o wymiarach nx1 na macierz o wymiarach 1xn\n",
    "\n",
    "# Predykcja na zbiorze testowym\n",
    "y_pred = model.predict(x_test)\n",
    "\n",
    "# Weryfikacja za pomocą metryk\n",
    "accuracy = accuracy_score(y_test, y_pred)\n",
    "precision = precision_score(y_test, y_pred, average='weighted')\n",
    "f1 = f1_score(y_test, y_pred, average='weighted')\n",
    "\n",
    "print(f\"Accuracy: {accuracy:.4f}\")\n",
    "print(f\"Precision: {precision:.4f}\")\n",
    "print(f\"F1 Score: {f1:.4f}\")"
   ]
  }
 ],
 "metadata": {
  "kernelspec": {
   "display_name": "Python 3",
   "language": "python",
   "name": "python3"
  },
  "language_info": {
   "codemirror_mode": {
    "name": "ipython",
    "version": 3
   },
   "file_extension": ".py",
   "mimetype": "text/x-python",
   "name": "python",
   "nbconvert_exporter": "python",
   "pygments_lexer": "ipython3",
   "version": "3.12.4"
  }
 },
 "nbformat": 4,
 "nbformat_minor": 2
}
